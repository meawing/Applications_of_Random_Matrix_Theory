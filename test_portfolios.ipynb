{
 "cells": [
  {
   "cell_type": "code",
   "execution_count": 1,
   "metadata": {},
   "outputs": [
    {
     "data": {
      "text/html": [
       "<style>.container { width:100% !important; }</style>"
      ],
      "text/plain": [
       "<IPython.core.display.HTML object>"
      ]
     },
     "metadata": {},
     "output_type": "display_data"
    }
   ],
   "source": [
    "from IPython.display import display, HTML\n",
    "display(HTML(\"<style>.container { width:100% !important; }</style>\"))"
   ]
  },
  {
   "cell_type": "code",
   "execution_count": 2,
   "metadata": {},
   "outputs": [],
   "source": [
    "import numpy as np\n",
    "import pandas as pd\n",
    "import matplotlib.pyplot as plt\n",
    "from scipy.linalg import block_diag"
   ]
  },
  {
   "cell_type": "code",
   "execution_count": 3,
   "metadata": {},
   "outputs": [],
   "source": [
    "from denoise import laloux\n",
    "from srinkage_linear import ledoit_wolf_lin\n",
    "from srinkage_nonlinear import ledoit_wolf_nonlin\n",
    "from srinkage_quadratic import ledoit_wolf_quad"
   ]
  },
  {
   "cell_type": "markdown",
   "metadata": {},
   "source": [
    "# "
   ]
  },
  {
   "cell_type": "code",
   "execution_count": 4,
   "metadata": {},
   "outputs": [],
   "source": [
    "# Monte Carlo experiments are based on those described in López de Prado (2020), Mashine Learning for Asset Managers"
   ]
  },
  {
   "cell_type": "code",
   "execution_count": 5,
   "metadata": {},
   "outputs": [],
   "source": [
    "def eigh_decompose(matrix):\n",
    "    \"\"\"\n",
    "        Return the eigenvalues and eigenvectors in a sorted order \n",
    "    \"\"\"\n",
    "    eigenVal, eigenVec = np.linalg.eigh(matrix)\n",
    "    indices = eigenVal.argsort()[::-1]\n",
    "    eigenVal, eigenVec = eigenVal[indices], eigenVec[:,indices]\n",
    "    eigenVal = np.diagflat(eigenVal)    \n",
    "    return eigenVal, eigenVec\n",
    "\n",
    "def form_block_matrix(nBlocks, bSize, bCorr):\n",
    "    \"\"\"\n",
    "        Form correlation matrix out of 'nBlocks' blocks of size 'bSize' each, where off - diagonal elements within each block have a correlation of 'bCorr'.\n",
    "        This covariance matrix is a stylized representation of a true (nonempirical) correlation matrix of the S&P 500, where each block is associated with an economic sector.\n",
    "    \"\"\"    \n",
    "    block=np.ones((bSize, bSize)) * bCorr\n",
    "    block[range(bSize),range(bSize)]=1\n",
    "    corr=block_diag(*([block]*nBlocks))\n",
    "    return corr\n",
    "\n",
    "def form_true_matrix(nBlocks, bSize, bCorr):\n",
    "    \"\"\"\n",
    "        Without loss of generality, the variances are drawn from a uniform distribution bounded between 5% and 20%,\n",
    "        and the vector of means is drawn from a Normal distribution with mean and standard deviation equal to the standard deviation from the covariance matrix.\n",
    "        This is consistent with the notion that in an efficient market all securities have the same expected Sharpe ratio. \n",
    "        Returns vector of means of lenght N and covariance matrix formed from \"true\" (nonempirical) correlation matrix and vector of variances\n",
    "    \"\"\"\n",
    "    corr0 = form_block_matrix(nBlocks, bSize, bCorr) \n",
    "    corr0 = pd.DataFrame(corr0)\n",
    "    cols = corr0.columns.tolist()\n",
    "    np.random.shuffle(cols) \n",
    "    corr0 = corr0[cols].loc[cols].copy(deep=True)\n",
    "    std0 = np.random.uniform(.05, .2, corr0.shape[0]) \n",
    "    cov0 = corr2cov(corr0, std0)\n",
    "    mu0 = np.random.normal(std0, std0, cov0.shape[0]).reshape(-1,1)\n",
    "    return mu0, cov0\n",
    "\n",
    "\n",
    "def sim_cov_mu(mu0, cov0, nObs):\n",
    "    \"\"\"\n",
    "        Uses the \"true\" (nonempirical) covariance matrix to draw a random matrix X of size TxN,\n",
    "        and it derives the associated empirical covariance matrix and vector of means.\n",
    "        \n",
    "        nObs: sets the value of T.\n",
    "        \n",
    "        When shrink = True, the function performs a Ledoit – Wolf shrinkage of the empirical covariance matrix.\n",
    "    \"\"\"\n",
    "    x = np.random.multivariate_normal(mu0.flatten(), cov0, size=nObs) \n",
    "    mu1 = x.mean(axis=0).reshape(-1,1)\n",
    "    cov1 = np.cov(x, rowvar=0)\n",
    "    return mu1, cov1, x\n",
    "\n",
    "def denoise_cov(cov0, q, bwidth):\n",
    "    \"\"\"\n",
    "        Given original covariance matrix, return denoised covariance matrix\n",
    "    \"\"\"\n",
    "    corr0 = cov2corr(cov0)\n",
    "    eigenVal0, eigenVec0 = eigh_decompose(corr0)\n",
    "    eigenMax0, var0 = get_max_eigenVal(np.diag(eigenVal0), q, bwidth) \n",
    "    nFacts0 = eigenVal0.shape[0] - np.diag(eigenVal0)[::-1].searchsorted(eigenMax0)\n",
    "    corr1 = denoised_corr(eigenVal0, eigenVec0, nFacts0)\n",
    "    cov1 = corr2cov(corr1, np.diag(cov0)**.5)\n",
    "    return cov1\n",
    "\n",
    "def corr2cov(corr, std):\n",
    "    cov = corr * np.outer(std, std)\n",
    "    return cov\n",
    "\n",
    "\n",
    "def cov2corr(cov):\n",
    "    \"\"\"\n",
    "        Derive the correlation matrix from a covariance matrix\n",
    "    \"\"\"\n",
    "    std = np.sqrt(np.diag(cov))\n",
    "    corr = cov / np.outer(std, std)\n",
    "    corr[corr<-1], corr[corr>1] = -1, 1\n",
    "    return corr\n",
    "\n",
    "def opt_portfolio(cov, mu=None):\n",
    "    \"\"\"    \n",
    "        Derive the minimum variance portfolio\n",
    "    \"\"\"    \n",
    "    inv = np.linalg.inv(cov)\n",
    "    ones = np.ones(shape=(inv.shape[0],1))\n",
    "    if mu is None:\n",
    "        mu=ones\n",
    "    w = np.dot(inv,mu) \n",
    "    w /= np.dot(ones.T,w)\n",
    "    return w"
   ]
  },
  {
   "cell_type": "markdown",
   "metadata": {},
   "source": [
    "### Minimum variance portfolio"
   ]
  },
  {
   "cell_type": "code",
   "execution_count": 6,
   "metadata": {},
   "outputs": [],
   "source": [
    "nBlocks, bSize, bCorr = 10, 50, .5\n",
    "np.random.seed(0)\n",
    "\n",
    "mu0, cov0 = form_true_matrix(nBlocks, bSize, bCorr)"
   ]
  },
  {
   "cell_type": "code",
   "execution_count": 7,
   "metadata": {},
   "outputs": [],
   "source": [
    "nObs, nTrials, bwidth, minVarPortf = 1000, 100, .01, True\n",
    "\n",
    "w1 = pd.DataFrame(columns=range(cov0.shape[0]), index=range(nTrials), dtype=float)\n",
    "w1_lin = w1.copy()\n",
    "w1_nonlin = w1.copy()\n",
    "w1_quad = w1.copy()\n",
    "w1_l = w1.copy()\n",
    "# fix random seed\n",
    "np.random.seed(0)\n",
    "\n",
    "for i in range(nTrials):\n",
    "    mu1, cov1, x = sim_cov_mu(mu0, cov0, nObs)\n",
    "    if minVarPortf:\n",
    "        mu1=None \n",
    "    cov1_lin = ledoit_wolf_lin(x, d=False)\n",
    "    cov1_nonlin = ledoit_wolf_nonlin(cov1, nObs)\n",
    "    cov1_quad = ledoit_wolf_quad(cov1, nObs)\n",
    "    cov1_l = laloux(cov1, nObs)\n",
    "    \n",
    "    w1.loc[i] = opt_portfolio(cov1, mu1).flatten()     \n",
    "    w1_lin.loc[i] = opt_portfolio(cov1_lin, mu1).flatten()    \n",
    "    w1_nonlin.loc[i] = opt_portfolio(cov1_nonlin, mu1).flatten()\n",
    "    w1_quad.loc[i] = opt_portfolio(cov1_quad, mu1).flatten()\n",
    "    w1_l.loc[i] = opt_portfolio(cov1_l, mu1).flatten()"
   ]
  },
  {
   "cell_type": "code",
   "execution_count": 8,
   "metadata": {},
   "outputs": [
    {
     "name": "stdout",
     "output_type": "stream",
     "text": [
      "0.004962279513262569 0.0038560404543460033 0.0030993898354189143 0.0031016930644155384 0.0011794654557021292\n"
     ]
    }
   ],
   "source": [
    "w0 = opt_portfolio(cov0, None if minVarPortf else mu0)\n",
    "w0 = np.repeat(w0.T, w1.shape[0], axis=0) \n",
    "\n",
    "rmsd = np.mean((w1 - w0).values.flatten() ** 2) ** .5\n",
    "rmsd_lin = np.mean((w1_lin - w0).values.flatten() ** 2) ** .5\n",
    "rmsd_nonlin = np.mean((w1_nonlin - w0).values.flatten() ** 2) ** .5\n",
    "rmsd_quad = np.mean((w1_quad - w0).values.flatten() ** 2) ** .5\n",
    "rmsd_l = np.mean((w1_l - w0).values.flatten() ** 2) ** .5 \n",
    "\n",
    "print(rmsd, rmsd_lin, rmsd_nonlin, rmsd_quad, rmsd_l)"
   ]
  },
  {
   "cell_type": "markdown",
   "metadata": {},
   "source": [
    "### Maximum Sharpe ratio portfolio"
   ]
  },
  {
   "cell_type": "code",
   "execution_count": 9,
   "metadata": {},
   "outputs": [],
   "source": [
    "nObs, nTrials, bwidth, minVarPortf = 1000, 100, .01, False\n",
    "\n",
    "w1 = pd.DataFrame(columns=range(cov0.shape[0]), index=range(nTrials), dtype=float)\n",
    "w1_lin = w1.copy()\n",
    "w1_nonlin = w1.copy()\n",
    "w1_quad = w1.copy()\n",
    "w1_l = w1.copy()\n",
    "# fix random seed\n",
    "np.random.seed(0)\n",
    "\n",
    "for i in range(nTrials):\n",
    "    mu1, cov1, x = sim_cov_mu(mu0, cov0, nObs)\n",
    "    if minVarPortf:\n",
    "        mu1=None \n",
    "    cov1_lin = ledoit_wolf_lin(x, d=False)\n",
    "    cov1_nonlin = ledoit_wolf_nonlin(cov1, nObs)\n",
    "    cov1_quad = ledoit_wolf_quad(cov1, nObs)\n",
    "    cov1_l = laloux(cov1, nObs)\n",
    "    \n",
    "    w1.loc[i] = opt_portfolio(cov1, mu1).flatten()     \n",
    "    w1_lin.loc[i] = opt_portfolio(cov1_lin, mu1).flatten()    \n",
    "    w1_nonlin.loc[i] = opt_portfolio(cov1_nonlin, mu1).flatten()\n",
    "    w1_quad.loc[i] = opt_portfolio(cov1_quad, mu1).flatten()\n",
    "    w1_l.loc[i] = opt_portfolio(cov1_l, mu1).flatten()"
   ]
  },
  {
   "cell_type": "code",
   "execution_count": 10,
   "metadata": {},
   "outputs": [
    {
     "name": "stdout",
     "output_type": "stream",
     "text": [
      "0.20341423469941783 0.5371714505927292 0.033673430755731405 0.0337988891890699 0.015083443909607072\n"
     ]
    }
   ],
   "source": [
    "w0 = opt_portfolio(cov0, None if minVarPortf else mu0)\n",
    "w0 = np.repeat(w0.T, w1.shape[0], axis=0) \n",
    "\n",
    "rmsd = np.mean((w1 - w0).values.flatten() ** 2) ** .5\n",
    "rmsd_lin = np.mean((w1_lin - w0).values.flatten() ** 2) ** .5\n",
    "rmsd_nonlin = np.mean((w1_nonlin - w0).values.flatten() ** 2) ** .5\n",
    "rmsd_quad = np.mean((w1_quad - w0).values.flatten() ** 2) ** .5\n",
    "rmsd_l = np.mean((w1_l - w0).values.flatten() ** 2) ** .5 \n",
    "\n",
    "print(rmsd, rmsd_lin, rmsd_nonlin, rmsd_quad, rmsd_l)"
   ]
  },
  {
   "cell_type": "code",
   "execution_count": 11,
   "metadata": {},
   "outputs": [],
   "source": [
    "# In both portfolios linear shrinkage provides the smallest reduction in RMSE, non-linear and quadratic shrinkage are competing.\n",
    "# The largest reduction in RMSE is obtained by denoising (Laloux (2000))"
   ]
  },
  {
   "cell_type": "code",
   "execution_count": null,
   "metadata": {},
   "outputs": [],
   "source": []
  },
  {
   "cell_type": "code",
   "execution_count": null,
   "metadata": {},
   "outputs": [],
   "source": []
  }
 ],
 "metadata": {
  "kernelspec": {
   "display_name": "Python 3",
   "language": "python",
   "name": "python3"
  },
  "language_info": {
   "codemirror_mode": {
    "name": "ipython",
    "version": 3
   },
   "file_extension": ".py",
   "mimetype": "text/x-python",
   "name": "python",
   "nbconvert_exporter": "python",
   "pygments_lexer": "ipython3",
   "version": "3.8.5"
  }
 },
 "nbformat": 4,
 "nbformat_minor": 4
}
